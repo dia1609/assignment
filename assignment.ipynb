{
 "cells": [
  {
   "cell_type": "code",
   "execution_count": null,
   "id": "d0360a4e",
   "metadata": {},
   "outputs": [],
   "source": [
    "import requests\n",
    "from bs4 import BeautifulSoup\n",
    "\n",
    "def scrape_indeed_jobs(keyword):\n",
    "    url = f\"https://www.indeed.com/jobs?q={keyword}\"\n",
    "    response = requests.get(url)\n",
    "    \n",
    "    if response.status_code == 200:\n",
    "        soup = BeautifulSoup(response.text, 'html.parser')\n",
    "        \n",
    "    else:\n",
    "        print(\"Failed to fetch data from Indeed.com\")"
   ]
  },
  {
   "cell_type": "code",
   "execution_count": null,
   "id": "a3e0cd42",
   "metadata": {},
   "outputs": [],
   "source": [
    "import pymongo\n",
    "\n",
    "client = pymongo.MongoClient('mongodb://localhost:27017/')\n",
    "db = client['job_database']\n",
    "collection = db['python_developer_jobs']\n",
    "\n",
    "def store_in_mongodb(job_data):\n",
    "    collection.insert_many(job_data)"
   ]
  },
  {
   "cell_type": "code",
   "execution_count": null,
   "id": "5bb816ea",
   "metadata": {},
   "outputs": [],
   "source": [
    "from django.db import models\n",
    "\n",
    "class PythonDeveloperJob(models.Model):\n",
    "    title = models.CharField(max_length=100)\n",
    "    company = models.CharField(max_length=100)\n",
    "    location = models.CharField(max_length=100)\n",
    "    description = models.TextField()\n",
    "\n",
    "    def __str__(self):\n",
    "        return self.title"
   ]
  },
  {
   "cell_type": "code",
   "execution_count": null,
   "id": "5e12afdb",
   "metadata": {},
   "outputs": [],
   "source": [
    "from django.contrib import admin\n",
    "from .models import PythonDeveloperJob\n",
    "\n",
    "admin.site.register(PythonDeveloperJob)"
   ]
  },
  {
   "cell_type": "code",
   "execution_count": null,
   "id": "b2ad6201",
   "metadata": {},
   "outputs": [],
   "source": [
    "import numpy as np\n",
    "\n",
    "salaries = [50000, 60000, 70000, 80000, 90000]\n",
    "\n",
    "average_salary = np.mean(salaries)\n",
    "print(f\"The average salary for Python developers is: ${average_salary:.2f}\")"
   ]
  }
 ],
 "metadata": {
  "kernelspec": {
   "display_name": "Python 3 (ipykernel)",
   "language": "python",
   "name": "python3"
  },
  "language_info": {
   "codemirror_mode": {
    "name": "ipython",
    "version": 3
   },
   "file_extension": ".py",
   "mimetype": "text/x-python",
   "name": "python",
   "nbconvert_exporter": "python",
   "pygments_lexer": "ipython3",
   "version": "3.10.9"
  }
 },
 "nbformat": 4,
 "nbformat_minor": 5
}
